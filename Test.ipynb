{
 "cells": [
  {
   "cell_type": "markdown",
   "metadata": {},
   "source": [
    "# Sand Box"
   ]
  },
  {
   "cell_type": "markdown",
   "metadata": {},
   "source": [
    "### IMPORTS"
   ]
  },
  {
   "cell_type": "code",
   "execution_count": 1,
   "metadata": {},
   "outputs": [],
   "source": [
    "import Classifiers.SVMClassifier as svm\n",
    "import Kernels.Kernel as ker\n",
    "import Kernels.GaussianKernel as gker\n",
    "import Kernels.LinearKernel as lker\n",
    "import ModelTesters.ModelOptimizer as mo\n",
    "import numpy as np"
   ]
  },
  {
   "cell_type": "code",
   "execution_count": 2,
   "metadata": {},
   "outputs": [],
   "source": [
    "#Custrom Data set\n",
    "inputs = np.array([\n",
    "                    [-1,1],\n",
    "                    [1/2,1],\n",
    "                    [1/2,2],\n",
    "                    [-2,2],\n",
    "                    [-1,5/2],\n",
    "                    [1/2,-1],\n",
    "                    [1/2,-2],\n",
    "                    [-1/2, 3/2],\n",
    "                    [2,1/2],\n",
    "                    [5/2,3/2]   \n",
    "])\n",
    "pet = np.array([\n",
    "                    [-1,1],\n",
    "                    [1/2,1],\n",
    "                    [1/2,2],\n",
    "                    [-2,2],\n",
    "                    [-1,5/2],\n",
    "                    [1/2,-1],\n",
    "                    [1/2,-2],\n",
    "                    [-1/2, 3/2],\n",
    "                    [2,1/2],\n",
    "                    [5/2,3/2],\n",
    "                    [4/3, 7/2]\n",
    "])\n",
    "labels = np.array([1,1,1,1,1,-1,-1,-1,-1,-1])"
   ]
  },
  {
   "cell_type": "code",
   "execution_count": 3,
   "metadata": {},
   "outputs": [],
   "source": [
    "import Kernels.KSpectrumKernel as kspec\n",
    "import pandas as pd\n",
    "filepath = 'challenge-dataset/'"
   ]
  },
  {
   "cell_type": "code",
   "execution_count": 5,
   "metadata": {},
   "outputs": [
    {
     "data": {
      "text/plain": [
       "array([[265, 172, 209, ..., 168, 169, 148],\n",
       "       [172, 317, 127, ..., 265, 125, 123],\n",
       "       [209, 127, 277, ..., 113, 182, 197],\n",
       "       ...,\n",
       "       [168, 265, 113, ..., 457,  96,  82],\n",
       "       [169, 125, 182, ...,  96, 273, 168],\n",
       "       [148, 123, 197, ...,  82, 168, 305]])"
      ]
     },
     "execution_count": 5,
     "metadata": {},
     "output_type": "execute_result"
    }
   ],
   "source": [
    "Xtr0 = pd.read_csv(filepath + 'Xtr0.csv', delimiter=',', header = 0)['seq'].values\n",
    "kSpectrumKernel = kspec.KSpectrumKernel(k = 3, alphabet = ['A','T','G','C'])\n",
    "kSpectrumKernel.compute_similarity_matrix(Xtr0,Xtr0)\n",
    "\n",
    "\n",
    "\n",
    "\n",
    "\n",
    "\n",
    "\n",
    "\n",
    "\n",
    "\n",
    "\n",
    "\n"
   ]
  },
  {
   "cell_type": "code",
   "execution_count": 1,
   "metadata": {},
   "outputs": [
    {
     "ename": "SyntaxError",
     "evalue": "invalid syntax (<ipython-input-1-a468d43b4685>, line 2)",
     "output_type": "error",
     "traceback": [
      "\u001b[0;36m  File \u001b[0;32m\"<ipython-input-1-a468d43b4685>\"\u001b[0;36m, line \u001b[0;32m2\u001b[0m\n\u001b[0;31m    1ei\u001b[0m\n\u001b[0m      ^\u001b[0m\n\u001b[0;31mSyntaxError\u001b[0m\u001b[0;31m:\u001b[0m invalid syntax\n"
     ]
    }
   ],
   "source": []
  }
 ],
 "metadata": {
  "kernelspec": {
   "display_name": "Python (audio_env)",
   "language": "python",
   "name": "audio"
  },
  "language_info": {
   "codemirror_mode": {
    "name": "ipython",
    "version": 3
   },
   "file_extension": ".py",
   "mimetype": "text/x-python",
   "name": "python",
   "nbconvert_exporter": "python",
   "pygments_lexer": "ipython3",
   "version": "3.5.6"
  }
 },
 "nbformat": 4,
 "nbformat_minor": 2
}
