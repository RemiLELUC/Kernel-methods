{
 "cells": [
  {
   "cell_type": "markdown",
   "metadata": {},
   "source": [
    "# Sand Box"
   ]
  },
  {
   "cell_type": "markdown",
   "metadata": {},
   "source": [
    "### IMPORTS"
   ]
  },
  {
   "cell_type": "code",
   "execution_count": 5,
   "metadata": {},
   "outputs": [],
   "source": [
    "import Classifiers.SVMClassifier as svm\n",
    "import Kernels.Kernel as ker\n",
    "import Kernels.GaussianKernel as gker\n",
    "import Kernels.LinearKernel as lker\n",
    "\n",
    "import numpy as np"
   ]
  },
  {
   "cell_type": "code",
   "execution_count": 2,
   "metadata": {},
   "outputs": [],
   "source": [
    "#Custrom Data set\n",
    "inputs = np.array([\n",
    "                    [-1,1],\n",
    "                    [1/2,1],\n",
    "                    [1/2,2],\n",
    "                    [-2,2],\n",
    "                    [-1,5/2],\n",
    "                    [1/2,-1],\n",
    "                    [1/2,-2],\n",
    "                    [-1/2, 3/2],\n",
    "                    [2,1/2],\n",
    "                    [5/2,3/2]   \n",
    "])\n",
    "pet = np.array([\n",
    "                    [-1,1],\n",
    "                    [1/2,1],\n",
    "                    [1/2,2],\n",
    "                    [-2,2],\n",
    "                    [-1,5/2],\n",
    "                    [1/2,-1],\n",
    "                    [1/2,-2],\n",
    "                    [-1/2, 3/2],\n",
    "                    [2,1/2],\n",
    "                    [5/2,3/2],\n",
    "                    [4/3, 7/2]\n",
    "])\n",
    "labels = np.array([1,1,1,1,1,-1,-1,-1,-1,-1])"
   ]
  },
  {
   "cell_type": "code",
   "execution_count": 3,
   "metadata": {},
   "outputs": [
    {
     "name": "stdout",
     "output_type": "stream",
     "text": [
      "STEP 1 - Kernel Matrix computation\n",
      "END STEP 1\n",
      "STEP 2 - QP Solving\n",
      "END STEP 2\n"
     ]
    },
    {
     "data": {
      "image/png": "[encoded data removed]",
      "text/plain": [
       "<Figure size 432x288 with 1 Axes>"
      ]
     },
     "metadata": {
      "needs_background": "light"
     },
     "output_type": "display_data"
    }
   ],
   "source": [
    "kernel_svm = ker.Kernel(lambda x,y :(x.T)@y)\n",
    "lam = 10e-4\n",
    "svmClassifier = svm.SVMClassifier(lam = lam, kernel = kernel_svm)\n",
    "svmClassifier.fit(inputs, labels.astype(np.double))\n",
    "svmClassifier.plot_boundaries()"
   ]
  },
  {
   "cell_type": "code",
   "execution_count": 8,
   "metadata": {},
   "outputs": [
    {
     "data": {
      "text/plain": [
       "(10, 11)"
      ]
     },
     "execution_count": 8,
     "metadata": {},
     "output_type": "execute_result"
    }
   ],
   "source": [
    "lkern = lker.LinearKernel()\n",
    "lkern.compute_similarity_matrix(inputs, pet).shape"
   ]
  }
 ],
 "metadata": {
  "kernelspec": {
   "display_name": "Python (audio_env)",
   "language": "python",
   "name": "audio"
  },
  "language_info": {
   "codemirror_mode": {
    "name": "ipython",
    "version": 3
   },
   "file_extension": ".py",
   "mimetype": "text/x-python",
   "name": "python",
   "nbconvert_exporter": "python",
   "pygments_lexer": "ipython3",
   "version": "3.5.6"
  }
 },
 "nbformat": 4,
 "nbformat_minor": 2
}
